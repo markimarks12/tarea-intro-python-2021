{
 "cells": [
  {
   "cell_type": "code",
   "execution_count": 1,
   "id": "8dd07dc0",
   "metadata": {},
   "outputs": [
    {
     "name": "stdout",
     "output_type": "stream",
     "text": [
      "Hola Mundo\n"
     ]
    }
   ],
   "source": [
    "print('Hola Mundo')"
   ]
  },
  {
   "cell_type": "code",
   "execution_count": 3,
   "id": "610cc58c",
   "metadata": {},
   "outputs": [
    {
     "name": "stdout",
     "output_type": "stream",
     "text": [
      "Mi nombre es Marco Calzada, tengo 17 años y vivo en Costa Rica\n"
     ]
    }
   ],
   "source": [
    "nombre='Marco Calzada'\n",
    "edad=17\n",
    "pais='Costa Rica'\n",
    "print('Mi nombre es '+nombre+', tengo ' +str(edad)+' años y vivo en '+pais)"
   ]
  },
  {
   "cell_type": "code",
   "execution_count": 6,
   "id": "3bc2aba7",
   "metadata": {},
   "outputs": [
    {
     "name": "stdout",
     "output_type": "stream",
     "text": [
      "<class 'str'>\n",
      "<class 'int'>\n",
      "<class 'str'>\n"
     ]
    }
   ],
   "source": [
    "print(type(nombre))\n",
    "print(type(edad))\n",
    "print(type(pais))"
   ]
  },
  {
   "cell_type": "code",
   "execution_count": 8,
   "id": "7f0a45d9",
   "metadata": {},
   "outputs": [
    {
     "name": "stdout",
     "output_type": "stream",
     "text": [
      "En astronomía, la clasificación estelar\n",
      "es la clasificación de las estrellas en\n",
      "función de sus características espectrales.\n"
     ]
    }
   ],
   "source": [
    "print('En astronomía, la clasificación estelar\\nes la clasificación de las estrellas en\\nfunción de sus características espectrales.')"
   ]
  },
  {
   "cell_type": "code",
   "execution_count": 6,
   "id": "2e4d2865",
   "metadata": {},
   "outputs": [
    {
     "name": "stdout",
     "output_type": "stream",
     "text": [
      "Hipergigantes---Subgigantes---Secuencia principal*"
     ]
    }
   ],
   "source": [
    "print('Hipergigantes','Subgigantes','Secuencia principal', sep='---',end='*')"
   ]
  },
  {
   "cell_type": "code",
   "execution_count": 9,
   "id": "b2c89236",
   "metadata": {},
   "outputs": [
    {
     "name": "stdout",
     "output_type": "stream",
     "text": [
      "La masa de jupiter es de 1.8978244274809163e+27 kg\n"
     ]
    }
   ],
   "source": [
    "m_solar=1.98892*10**30\n",
    "m_jupiter=m_solar/1048\n",
    "print(f'La masa de jupiter es de {m_jupiter} kg')"
   ]
  },
  {
   "cell_type": "code",
   "execution_count": 26,
   "id": "17c6ef09",
   "metadata": {},
   "outputs": [
    {
     "name": "stdout",
     "output_type": "stream",
     "text": [
      "La distancia de Mercurio al sol da un resultado de False\n",
      "La distancia de Venus al sol da un resultado de False\n",
      "La distancia de Marte al sol da un resultado de True\n",
      "La distancia de Jupiter al sol da un resultado de True\n",
      "La distancia de Saturno al sol da un resultado de True\n"
     ]
    }
   ],
   "source": [
    "distancias = [('Mercurio',0.389),('Venus',0.723),('Marte',1.524),('Jupiter',5.203),('Saturno',9.537)]\n",
    "for i in range(0,5):\n",
    "    if distancias[i][1]>1:\n",
    "        bool=True\n",
    "        print(f'La distancia de {distancias[i][0]} al sol da un resultado de {bool}')\n",
    "    else:\n",
    "        bool=False\n",
    "        print(f'La distancia de {distancias[i][0]} al sol da un resultado de {bool}')\n",
    "        \n",
    "        "
   ]
  },
  {
   "cell_type": "code",
   "execution_count": null,
   "id": "e05d7771",
   "metadata": {},
   "outputs": [],
   "source": []
  }
 ],
 "metadata": {
  "kernelspec": {
   "display_name": "Python 3",
   "language": "python",
   "name": "python3"
  },
  "language_info": {
   "codemirror_mode": {
    "name": "ipython",
    "version": 3
   },
   "file_extension": ".py",
   "mimetype": "text/x-python",
   "name": "python",
   "nbconvert_exporter": "python",
   "pygments_lexer": "ipython3",
   "version": "3.8.8"
  }
 },
 "nbformat": 4,
 "nbformat_minor": 5
}
